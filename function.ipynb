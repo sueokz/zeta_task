{
 "cells": [
  {
   "cell_type": "code",
   "execution_count": 66,
   "id": "631e0b47-57aa-4fa9-8672-c3713f944f8f",
   "metadata": {},
   "outputs": [],
   "source": [
    "from abi import (\n",
    "    pool_abi,\n",
    "    approve_abi,\n",
    "    encoding_contract_abi,\n",
    "    multicall_abi,\n",
    ")\n",
    "\n",
    "from config import (\n",
    "    bnb_value_zeta , \n",
    "    pool_zeta_value,  \n",
    "    bnb_to_approve,\n",
    "    zeta_value_eth ,\n",
    "    zeta_value_bnb ,\n",
    "    wallet_A,\n",
    "    wallet_B,…\n",
    "    wallet…,\n",
    "    key_A,\n",
    "    key_B,\n",
    "    key_wallet…,\n",
    "    )"
   ]
  },
  {
   "cell_type": "code",
   "execution_count": 67,
   "id": "817c79ef-f35a-4955-8b84-cfb0068517af",
   "metadata": {},
   "outputs": [],
   "source": [
    "from web3 import Web3, HTTPProvider\n",
    "from web3 import EthereumTesterProvider\n",
    "from web3.middleware import geth_poa_middleware\n",
    "import time\n",
    "import json"
   ]
  },
  {
   "cell_type": "code",
   "execution_count": 68,
   "id": "1af1a610-6061-4eb5-976e-86a773db21d2",
   "metadata": {},
   "outputs": [
    {
     "name": "stdout",
     "output_type": "stream",
     "text": [
      "True\n",
      "7000\n"
     ]
    }
   ],
   "source": [
    "#RPCの設定\n",
    "RPC_URL = \"https://zetachain-evm.blockpi.network/v1/rpc/public\"\n",
    "web3 = Web3(HTTPProvider(RPC_URL))\n",
    "proxy_info = None\n",
    "\n",
    "\n",
    "#Networkの確認\n",
    "print(web3.is_connected())\n",
    "print(web3.eth.chain_id) "
   ]
  },
  {
   "cell_type": "code",
   "execution_count": null,
   "id": "aa4c0e36-633b-495b-895c-5d088bc59682",
   "metadata": {},
   "outputs": [],
   "source": []
  },
  {
   "cell_type": "code",
   "execution_count": null,
   "id": "92211593-cda9-448a-b3c8-bc2899d02c89",
   "metadata": {},
   "outputs": [],
   "source": []
  },
  {
   "cell_type": "code",
   "execution_count": 73,
   "id": "ac3543c4-8336-4abb-ae0e-58548a66b78d",
   "metadata": {
    "tags": []
   },
   "outputs": [],
   "source": [
    "#Send_Task\n",
    "def create_transaction(\n",
    ")"
   ]
  },
  {
   "cell_type": "code",
   "execution_count": null,
   "id": "17e79303-102a-4825-b7db-91bff742f0a5",
   "metadata": {},
   "outputs": [],
   "source": []
  },
  {
   "cell_type": "code",
   "execution_count": 9,
   "id": "6678e405-2a82-4549-bf75-702884afcd2b",
   "metadata": {},
   "outputs": [],
   "source": []
  },
  {
   "cell_type": "code",
   "execution_count": 62,
   "id": "6ad2056b-04f6-41b8-94f4-14a57ec58d1c",
   "metadata": {},
   "outputs": [],
   "source": [
    "#Swap_Task\n",
    "def eth_task(\n",
    ")"
   ]
  },
  {
   "cell_type": "code",
   "execution_count": 63,
   "id": "dbe4c526-8a95-4c8c-8650-3bc3805a5c1d",
   "metadata": {},
   "outputs": [],
   "source": [
    "def bnb_task(\n",
    ")"
   ]
  },
  {
   "cell_type": "code",
   "execution_count": null,
   "id": "fc78c0be-5fc5-4053-9b39-ed2b44482db0",
   "metadata": {},
   "outputs": [],
   "source": []
  },
  {
   "cell_type": "code",
   "execution_count": null,
   "id": "488d820b-8bf6-4f8e-aae8-78df6f8ea302",
   "metadata": {},
   "outputs": [],
   "source": []
  },
  {
   "cell_type": "code",
   "execution_count": 64,
   "id": "2d7e9311-f86d-429f-a1bb-4e0ff9279292",
   "metadata": {
    "tags": []
   },
   "outputs": [],
   "source": [
    "#LP_Task\n",
    "#approve\n",
    "def approve(\n",
    ")"
   ]
  },
  {
   "cell_type": "code",
   "execution_count": 65,
   "id": "a88abc9d-c9fe-4d3d-861c-884683e49e3f",
   "metadata": {
    "tags": []
   },
   "outputs": [],
   "source": [
    "#pool\n",
    "def pool_tx(\n",
    ")"
   ]
  },
  {
   "cell_type": "code",
   "execution_count": null,
   "id": "1a309a05-0870-4d32-a3fc-16cf27ed271c",
   "metadata": {},
   "outputs": [],
   "source": []
  },
  {
   "cell_type": "code",
   "execution_count": null,
   "id": "5a85e686-56be-440c-b3d1-4a442e297cc2",
   "metadata": {},
   "outputs": [],
   "source": []
  },
  {
   "cell_type": "code",
   "execution_count": null,
   "id": "be52e974-baa0-4db5-8f83-b85d91dac049",
   "metadata": {},
   "outputs": [],
   "source": [
    "#一括送金\n",
    "def create_transaction()"
   ]
  }
 ],
 "metadata": {
  "kernelspec": {
   "display_name": "Python 3 (ipykernel)",
   "language": "python",
   "name": "python3"
  },
  "language_info": {
   "codemirror_mode": {
    "name": "ipython",
    "version": 3
   },
   "file_extension": ".py",
   "mimetype": "text/x-python",
   "name": "python",
   "nbconvert_exporter": "python",
   "pygments_lexer": "ipython3",
   "version": "3.11.5"
  }
 },
 "nbformat": 4,
 "nbformat_minor": 5
}
